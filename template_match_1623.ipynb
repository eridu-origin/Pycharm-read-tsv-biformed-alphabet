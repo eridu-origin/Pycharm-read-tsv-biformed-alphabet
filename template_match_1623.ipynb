{
  "nbformat": 4,
  "nbformat_minor": 0,
  "metadata": {
    "colab": {
      "provenance": [],
      "collapsed_sections": [],
      "include_colab_link": true
    },
    "kernelspec": {
      "name": "python3",
      "display_name": "Python 3"
    },
    "language_info": {
      "name": "python"
    }
  },
  "cells": [
    {
      "cell_type": "markdown",
      "metadata": {
        "id": "view-in-github",
        "colab_type": "text"
      },
      "source": [
        "<a href=\"https://colab.research.google.com/github/eridu-origin/Pycharm-read-tsv-biformed-alphabet/blob/main/template_match_1623.ipynb\" target=\"_parent\"><img src=\"https://colab.research.google.com/assets/colab-badge.svg\" alt=\"Open In Colab\"/></a>"
      ]
    },
    {
      "cell_type": "markdown",
      "source": [
        "# OpenCV Template Matching\n",
        "Prologue to Troilus and Cressida\n"
      ],
      "metadata": {
        "id": "6Tq-nmJ7I-cj"
      }
    },
    {
      "cell_type": "markdown",
      "source": [],
      "metadata": {
        "id": "Qv9h1wAQ9f9-"
      }
    },
    {
      "cell_type": "code",
      "source": [
        "import cv2\n",
        "import numpy as np\n",
        "from matplotlib import pyplot as plt"
      ],
      "metadata": {
        "id": "iSaea7C9hrZU"
      },
      "execution_count": null,
      "outputs": []
    },
    {
      "cell_type": "code",
      "source": [
        "from google.colab import drive\n",
        "drive.mount('/content/drive')"
      ],
      "metadata": {
        "id": "UKirychg_FwH",
        "colab": {
          "base_uri": "https://localhost:8080/"
        },
        "outputId": "ef9315be-0ea3-4239-936e-8669e6259f5c"
      },
      "execution_count": null,
      "outputs": [
        {
          "output_type": "stream",
          "name": "stdout",
          "text": [
            "Drive already mounted at /content/drive; to attempt to forcibly remount, call drive.mount(\"/content/drive\", force_remount=True).\n"
          ]
        }
      ]
    },
    {
      "cell_type": "code",
      "source": [
        "!ls \"/content/drive/MyDrive/Template Match 1623\""
      ],
      "metadata": {
        "colab": {
          "base_uri": "https://localhost:8080/"
        },
        "id": "0z1vimzDOuyG",
        "outputId": "6916147e-de2a-4fd8-99c3-4fddc5b422f7"
      },
      "execution_count": null,
      "outputs": [
        {
          "output_type": "stream",
          "name": "stdout",
          "text": [
            "Targets  Templates\n"
          ]
        }
      ]
    },
    {
      "cell_type": "code",
      "source": [
        "image = cv2.imread('/content/drive/MyDrive/Template Match 1623/Targets/TC 4 sentences source image 895.png')\n",
        "original = image.copy()\n",
        "gray = cv2.cvtColor(image,cv2.COLOR_BGR2GRAY)\n",
        "blur = cv2.GaussianBlur(gray, (5,5), 0)\n",
        "thresh = cv2.threshold(blur, 0, 255, cv2.THRESH_BINARY_INV + cv2.THRESH_OTSU)[1]\n",
        "kernel = cv2.getStructuringElement(cv2.MORPH_RECT, (15,15))\n",
        "dilate = cv2.dilate(thresh, kernel, iterations=2)\n",
        "\n",
        "# Find contours, obtain bounding box coordinates, and extract ROI\n",
        "cnts = cv2.findContours(dilate, cv2.RETR_EXTERNAL, cv2.CHAIN_APPROX_SIMPLE)\n",
        "cnts = cnts[0] if len(cnts) == 2 else cnts[1]\n",
        "image_number = 0\n",
        "for c in cnts:\n",
        "    x,y,w,h = cv2.boundingRect(c)\n",
        "    cv2.rectangle(image, (x, y), (x + w, y + h), (36,255,12), 3)\n",
        "    ROI = original[y:y+h, x:x+w]\n",
        "    cv2.imwrite(\"ROI_{}.png\".format(image_number), ROI)\n",
        "    image_number += 1\n",
        "\n",
        "fig = plt.figure(figsize=(80,2))\n",
        "plt.imshow(image)\n",
        "plt.show()\n",
        "\n",
        "\n",
        "#cv2_imshow('image', image)\n",
        "#cv2_imshow('thresh', thresh)\n",
        "#cv2_imshow('dilate', dilate)\n",
        "cv2.waitKey() "
      ],
      "metadata": {
        "colab": {
          "base_uri": "https://localhost:8080/",
          "height": 314
        },
        "id": "076j6cjd5gnc",
        "outputId": "700009cb-853e-4f0d-91d8-781a7745f096"
      },
      "execution_count": null,
      "outputs": [
        {
          "output_type": "error",
          "ename": "NameError",
          "evalue": "ignored",
          "traceback": [
            "\u001b[0;31m---------------------------------------------------------------------------\u001b[0m",
            "\u001b[0;31mNameError\u001b[0m                                 Traceback (most recent call last)",
            "\u001b[0;32m<ipython-input-4-088dde4de572>\u001b[0m in \u001b[0;36m<module>\u001b[0;34m\u001b[0m\n\u001b[0;32m----> 1\u001b[0;31m \u001b[0mimage\u001b[0m \u001b[0;34m=\u001b[0m \u001b[0mcv2\u001b[0m\u001b[0;34m.\u001b[0m\u001b[0mimread\u001b[0m\u001b[0;34m(\u001b[0m\u001b[0;34m'/content/drive/MyDrive/Template Match 1623/Targets/TC 4 sentences source image 895.png'\u001b[0m\u001b[0;34m)\u001b[0m\u001b[0;34m\u001b[0m\u001b[0;34m\u001b[0m\u001b[0m\n\u001b[0m\u001b[1;32m      2\u001b[0m \u001b[0moriginal\u001b[0m \u001b[0;34m=\u001b[0m \u001b[0mimage\u001b[0m\u001b[0;34m.\u001b[0m\u001b[0mcopy\u001b[0m\u001b[0;34m(\u001b[0m\u001b[0;34m)\u001b[0m\u001b[0;34m\u001b[0m\u001b[0;34m\u001b[0m\u001b[0m\n\u001b[1;32m      3\u001b[0m \u001b[0mgray\u001b[0m \u001b[0;34m=\u001b[0m \u001b[0mcv2\u001b[0m\u001b[0;34m.\u001b[0m\u001b[0mcvtColor\u001b[0m\u001b[0;34m(\u001b[0m\u001b[0mimage\u001b[0m\u001b[0;34m,\u001b[0m\u001b[0mcv2\u001b[0m\u001b[0;34m.\u001b[0m\u001b[0mCOLOR_BGR2GRAY\u001b[0m\u001b[0;34m)\u001b[0m\u001b[0;34m\u001b[0m\u001b[0;34m\u001b[0m\u001b[0m\n\u001b[1;32m      4\u001b[0m \u001b[0mblur\u001b[0m \u001b[0;34m=\u001b[0m \u001b[0mcv2\u001b[0m\u001b[0;34m.\u001b[0m\u001b[0mGaussianBlur\u001b[0m\u001b[0;34m(\u001b[0m\u001b[0mgray\u001b[0m\u001b[0;34m,\u001b[0m \u001b[0;34m(\u001b[0m\u001b[0;36m5\u001b[0m\u001b[0;34m,\u001b[0m\u001b[0;36m5\u001b[0m\u001b[0;34m)\u001b[0m\u001b[0;34m,\u001b[0m \u001b[0;36m0\u001b[0m\u001b[0;34m)\u001b[0m\u001b[0;34m\u001b[0m\u001b[0;34m\u001b[0m\u001b[0m\n\u001b[1;32m      5\u001b[0m \u001b[0mthresh\u001b[0m \u001b[0;34m=\u001b[0m \u001b[0mcv2\u001b[0m\u001b[0;34m.\u001b[0m\u001b[0mthreshold\u001b[0m\u001b[0;34m(\u001b[0m\u001b[0mblur\u001b[0m\u001b[0;34m,\u001b[0m \u001b[0;36m0\u001b[0m\u001b[0;34m,\u001b[0m \u001b[0;36m255\u001b[0m\u001b[0;34m,\u001b[0m \u001b[0mcv2\u001b[0m\u001b[0;34m.\u001b[0m\u001b[0mTHRESH_BINARY_INV\u001b[0m \u001b[0;34m+\u001b[0m \u001b[0mcv2\u001b[0m\u001b[0;34m.\u001b[0m\u001b[0mTHRESH_OTSU\u001b[0m\u001b[0;34m)\u001b[0m\u001b[0;34m[\u001b[0m\u001b[0;36m1\u001b[0m\u001b[0;34m]\u001b[0m\u001b[0;34m\u001b[0m\u001b[0;34m\u001b[0m\u001b[0m\n",
            "\u001b[0;31mNameError\u001b[0m: name 'cv2' is not defined"
          ]
        }
      ]
    },
    {
      "cell_type": "code",
      "source": [
        "# read the target image\n",
        "target_file_name = input('Enter the target file name: ')\n",
        "#print(target_file_name)\n",
        "img = cv2.imread(target_file_name, cv2.IMREAD_COLOR)"
      ],
      "metadata": {
        "id": "dz-74Ndrh9I3"
      },
      "execution_count": null,
      "outputs": []
    },
    {
      "cell_type": "code",
      "source": [
        "# convert target from BGR to RGB\n",
        "imgRGB = cv2.cvtColor(img, cv2.COLOR_BGR2RGB)"
      ],
      "metadata": {
        "id": "g67el_cbh_-y"
      },
      "execution_count": null,
      "outputs": []
    },
    {
      "cell_type": "code",
      "source": [
        "# and convert target from BGR to GRAY\n",
        "imgGray = cv2.cvtColor(img, cv2.COLOR_BGR2GRAY)"
      ],
      "metadata": {
        "id": "cmu2HX-9JKFl"
      },
      "execution_count": null,
      "outputs": []
    },
    {
      "cell_type": "code",
      "source": [
        "# and here we check the given target image\n",
        "fig = plt.figure(figsize=(80,2))\n",
        "plt.imshow(imgRGB)\n",
        "plt.show()"
      ],
      "metadata": {
        "id": "d7PHg4a5iGGc"
      },
      "execution_count": null,
      "outputs": []
    },
    {
      "cell_type": "code",
      "source": [
        "# read the template image:\n",
        "template_file_name = input('Enter the template file name: ')\n",
        "template = cv2.imread(template_file_name, 0)"
      ],
      "metadata": {
        "id": "7JocxlQ9iRn5"
      },
      "execution_count": null,
      "outputs": []
    },
    {
      "cell_type": "markdown",
      "source": [],
      "metadata": {
        "id": "WKrM5LhPCrSF"
      }
    },
    {
      "cell_type": "code",
      "source": [
        "# check the selected template image:\n",
        "fig = plt.figure(figsize=(2,2))\n",
        "plt.imshow(template, cmap=\"gray\")\n",
        "plt.show()"
      ],
      "metadata": {
        "id": "zZWIZISTia5h"
      },
      "execution_count": null,
      "outputs": []
    },
    {
      "cell_type": "code",
      "source": [
        "# then get the shape of the template:\n",
        "w, h = template.shape[::-1]"
      ],
      "metadata": {
        "id": "_A17IdoBif-x"
      },
      "execution_count": null,
      "outputs": []
    },
    {
      "cell_type": "code",
      "source": [
        "# Apply the template matching.\n",
        "# Remember, that the size of the template should \n",
        "# be as much as possible the same, as it is size in the target image\n",
        "\n",
        "# So, we take our image, our template and the template matching method\n",
        "res = cv2.matchTemplate(imgGray,\n",
        "                        template,\n",
        "                        cv2.TM_CCOEFF_NORMED)"
      ],
      "metadata": {
        "id": "T37AN38Wij7o"
      },
      "execution_count": null,
      "outputs": []
    },
    {
      "cell_type": "code",
      "source": [
        "# Suppose we are searching for an object which has multiple occurrences.\n",
        "# In that case, we will use thresholding. \n",
        "# Let's make the threshold 0.7\n",
        "threshold = 0.9"
      ],
      "metadata": {
        "id": "g7KsJSuwi0Zc"
      },
      "execution_count": null,
      "outputs": []
    },
    {
      "cell_type": "code",
      "source": [
        "# then we get the locations, that have values bigger, than our threshold\n",
        "loc = np.where(res >= threshold)"
      ],
      "metadata": {
        "id": "v3Q1mQ4Pi8X2"
      },
      "execution_count": null,
      "outputs": []
    },
    {
      "cell_type": "code",
      "source": [
        "# and we plot the rectangles around locations that are found\n",
        "for pt in zip(*loc[::-1]):\n",
        "  cv2.rectangle(imgRGB,\n",
        "                pt,\n",
        "                (pt[0]+w, pt[1]+h),\n",
        "                (255, 0, 255),\n",
        "                1)"
      ],
      "metadata": {
        "id": "G4XfCAAAjN8J"
      },
      "execution_count": null,
      "outputs": []
    },
    {
      "cell_type": "code",
      "source": [
        "fig = plt.figure(figsize=(80,80))\n",
        "plt.imshow(imgRGB)\n",
        "# plt.show()\n",
        "# plt.savefig('/content/drive/MyDrive/Template Match 1623/T and C')"
      ],
      "metadata": {
        "id": "j77MKMTVjcoR"
      },
      "execution_count": null,
      "outputs": []
    },
    {
      "cell_type": "code",
      "source": [],
      "metadata": {
        "id": "ZE4ZcyN95E8C"
      },
      "execution_count": null,
      "outputs": []
    }
  ]
}