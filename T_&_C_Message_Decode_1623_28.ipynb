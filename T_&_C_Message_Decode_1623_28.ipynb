{
  "nbformat": 4,
  "nbformat_minor": 0,
  "metadata": {
    "colab": {
      "provenance": [],
      "include_colab_link": true
    },
    "kernelspec": {
      "name": "python3",
      "display_name": "Python 3"
    },
    "language_info": {
      "name": "python"
    }
  },
  "cells": [
    {
      "cell_type": "markdown",
      "metadata": {
        "id": "view-in-github",
        "colab_type": "text"
      },
      "source": [
        "<a href=\"https://colab.research.google.com/github/eridu-origin/Pycharm-read-tsv-biformed-alphabet/blob/main/T_%26_C_Message_Decode_1623_28.ipynb\" target=\"_parent\"><img src=\"https://colab.research.google.com/assets/colab-badge.svg\" alt=\"Open In Colab\"/></a>"
      ]
    },
    {
      "cell_type": "markdown",
      "source": [
        "## Francis Bacon: The Secret Writings, 1623\n",
        "#Decoding the 'Prologue to Troilus and Cressida'\n",
        "Page 77 from the First Folio of Wm. Shakespeare\n"
      ],
      "metadata": {
        "id": "_TnkHjUgdgxF"
      }
    },
    {
      "cell_type": "markdown",
      "source": [
        "\n",
        "\n",
        "---\n",
        "\n",
        "\n",
        "<u>PURPOSE</u><br>\n",
        "To test the validity of the decoding presented on Page 12 of the 1916 booklet: \n",
        "\n",
        ">'The keys for deciphering the greatest work of Sir Francis Bacon, Baron of Verulam, Viscount St. Albans'\n",
        "\n",
        "published by Riverbank Laboratories, the nation's first privately-funded research institute.\n",
        "\n",
        "The booklet's principle author was the renowned cyptanalyst, William Friedman, who later become one of the two founders of the NSA (National Security Agency). Friedman may have coined the term, 'Cryptanalyst'. \n",
        "\n",
        "It is alleged that Francis Bacon, inventor of the Binary Code (at age seventeen) had covertly hidden a message to Posterity within the text of the least popular of Wm. Shekepeare's plays, Trolius and Cressida.\n",
        "\n",
        "\n",
        "---\n",
        "\n",
        "\n",
        "<u>METHOD</u><br>\n",
        "A digital scan (to jpeg) of the booklet is used for manually transcribing Page 12, the Prologue to Trolius and Cressida into a Google Docs datasheet (tsv). The print quality is very poor of the antique font, and no effective OCR method was available.\n",
        "\n",
        "\n",
        "\n",
        "\n"
      ],
      "metadata": {
        "id": "pDu157r1L-O_"
      }
    },
    {
      "cell_type": "code",
      "source": [
        "from google.colab import drive\n",
        "drive.mount('/content/drive')"
      ],
      "metadata": {
        "id": "UKirychg_FwH",
        "colab": {
          "base_uri": "https://localhost:8080/"
        },
        "outputId": "5907a806-0a84-4d89-8994-18bb23430683"
      },
      "execution_count": 11,
      "outputs": [
        {
          "output_type": "stream",
          "name": "stdout",
          "text": [
            "Drive already mounted at /content/drive; to attempt to forcibly remount, call drive.mount(\"/content/drive\", force_remount=True).\n"
          ]
        }
      ]
    },
    {
      "cell_type": "markdown",
      "source": [],
      "metadata": {
        "id": "QTVLDijVFHgh"
      }
    },
    {
      "cell_type": "code",
      "source": [
        "import os\n",
        "import csv\n",
        "import pandas as pd\n",
        "\n",
        "#Root Directory for project content on Google Drive:\n",
        "content_dir = '/content/drive/MyDrive'\n",
        "project_dir = content_dir + \"/T & C Message Decode 1623\"\n",
        "data_upload_dir = project_dir + \"/text data to upload - tsv/upload\"\n",
        "\n",
        "#print(content_dir)\n",
        "#print(project_dir)\n",
        "#print(data_upload_dir)\n",
        "\n",
        "#Input File (1 total):\n",
        "data_upload_file = os.path.join(data_upload_dir, 'v21.tsv')\n",
        "input_data_table = pd.read_csv(data_upload_file, sep='\\t', header=None)\n",
        "#input_data_table\n",
        "\n",
        "today = '2022_11_18'\n",
        "now = '10-58-37'\n",
        "output_filename = today + now + '.csv'\n",
        "\n",
        "#Output Files (3 total):\n",
        "original_text_dir = project_dir + '/original text - csv/' \n",
        "biliterals_dir = project_dir + '/biliterals - csv/' \n",
        "output_data_table_dir = project_dir + '/output_data_table - csv/' \n",
        "decoded_message_dir = project_dir + '/decoded message - csv/'\n",
        "archive_dir = project_dir + '/data archive - zip/'\n",
        "\n",
        "\n",
        "if os.path.isdir(original_text_dir):\n",
        "  print(original_text_dir)\n",
        "\n",
        "if os.path.isdir(biliterals_dir):\n",
        "  print(biliterals_dir)\n",
        "\n",
        "if os.path.isdir(output_data_table_dir):\n",
        "  print(output_data_table_dir)\n",
        "\n",
        "if os.path.isdir(decoded_message_dir):\n",
        "  print(decoded_message_dir)\n",
        "\n",
        "if os.path.isdir(archive_dir):\n",
        "  print(archive_dir)\n",
        "\n",
        "\n",
        "#1. original text from book (5 characters)\n",
        "#2. corresponding biliteral value (such as 'aabab')\n",
        "#3. whether \n",
        "#4. decoded letter of message"
      ],
      "metadata": {
        "colab": {
          "base_uri": "https://localhost:8080/"
        },
        "id": "60l-Z0L2MiJU",
        "outputId": "0fab1996-c994-4d26-c61d-1b2841abc763"
      },
      "execution_count": 12,
      "outputs": [
        {
          "output_type": "stream",
          "name": "stdout",
          "text": [
            "/content/drive/MyDrive/T & C Message Decode 1623/original text - csv/\n",
            "/content/drive/MyDrive/T & C Message Decode 1623/biliterals - csv/\n",
            "/content/drive/MyDrive/T & C Message Decode 1623/decoded message - csv/\n",
            "/content/drive/MyDrive/T & C Message Decode 1623/data archive - zip/\n"
          ]
        }
      ]
    },
    {
      "cell_type": "markdown",
      "source": [],
      "metadata": {
        "id": "ILLU7lVWePCs"
      }
    },
    {
      "cell_type": "code",
      "source": [
        "# Decode a five bit binary word into an English Alphabet letter.\n",
        "# There were 22 letters in the Elizabethan English Alphabet:\n",
        "#   'I' = 'J'\n",
        "#   'U' = 'V'\n",
        "# therefore 5 binary digits are more than enough, 2 (exp) 5 = 32\n",
        "\n",
        "def decode_biliteral(which):\n",
        "\n",
        "  decode = {\n",
        "  'aaaaa': 'a',\n",
        "  'aaaab': 'b',\n",
        "  'aaaba': 'c',\n",
        "  'aaabb': 'd',\n",
        "  'aabaa': 'e',\n",
        "  'aabab': 'f',\n",
        "  'aabba': 'g',\n",
        "  'aabbb': 'h',\n",
        "  'abaaa': 'i',\n",
        "  'abaab': 'k',\n",
        "  'ababa': 'l',\n",
        "  'ababb': 'm',\n",
        "  'abbaa': 'n',\n",
        "  'abbab': 'o',\n",
        "  'abbba': 'p',\n",
        "  'abbbb': 'q',\n",
        "  'baaaa': 'r',\n",
        "  'baaab': 's',\n",
        "  'baaba': 't',\n",
        "  'baabb': 'v',\n",
        "  'babaa': 'w',\n",
        "  'babab': 'x',\n",
        "  'babba': 'y',\n",
        "  'babbb': 'z'\n",
        "  }\n",
        "\n",
        "  which_letter = decode[which]\n",
        "  return which_letter\n"
      ],
      "metadata": {
        "id": "WbSFd7dSTD2r"
      },
      "execution_count": 13,
      "outputs": []
    },
    {
      "cell_type": "code",
      "source": [
        "original_text = input_data_table.iloc[0::3, :]\n",
        "ot_path = original_text_dir + output_filename\n",
        "original_text.to_csv (ot_path, index = None, header=True) \n",
        "#original_text\n"
      ],
      "metadata": {
        "id": "8Ewxm5NbnDKM"
      },
      "execution_count": 14,
      "outputs": []
    },
    {
      "cell_type": "code",
      "source": [
        "biliterals = input_data_table.iloc[1::3, :]\n",
        "bl_path = biliterals_dir + output_filename\n",
        "biliterals.to_csv (bl_path, index = None, header=True) \n",
        "#biliterals"
      ],
      "metadata": {
        "id": "ON1U_heznE1R"
      },
      "execution_count": 15,
      "outputs": []
    },
    {
      "cell_type": "code",
      "source": [
        "output_encoded_dataframe = input_data_table.copy(deep=True)\n",
        "\n",
        "encoded_text_size = 0\n",
        "original_text_letters = ''\n",
        "\n",
        "for row in range(2,45,3):\n",
        "  for column in range(14):\n",
        "    letter = output_encoded_dataframe.loc[row - 2,column] \n",
        "    biliteral = output_encoded_dataframe.loc[row - 1,column] \n",
        "    which_letter = decode_biliteral(biliteral)\n",
        "    output_encoded_dataframe.loc[row,column] = which_letter\n",
        "    encoded_text_size += 5\n",
        "    original_text_letters += letter\n",
        "\n",
        "#print(original_text_letters)"
      ],
      "metadata": {
        "id": "dlUGIBy8AIJA",
        "colab": {
          "base_uri": "https://localhost:8080/"
        },
        "outputId": "3fcfbd5c-809c-4f1e-e620-2409fca71193"
      },
      "execution_count": 17,
      "outputs": [
        {
          "output_type": "stream",
          "name": "stdout",
          "text": [
            "TheProlugueINTroyTherelyesthesceneFromIlesofGreeceThePrincesOrgilloustheirhighbloodchafdHauetotheportofAthenssenttheirshippesFraughtwiththeministersandinstrumentsOferuellWarreSixtyandninethatworeTheirCrownetsRegalifromthAthenianbayPutforthtowardPhyrginandtheirvowismadeToransackeTroywithinwhosestrongemuresTherauishdHelenmenelausQueeneWithwantonParissleepesandthatstheQuarrellToTenedostheyeomeAndthedeepedrawingBarkedotheredisgorgeTheirwarlikefrautagenowonDardanPlainesThefreshandyetvabruisedGreekesdopitehTheirbrauePauillionsPriamssixgatedCityDardanAndTimbriaHeliasChetasTroienAndAntenonidnswithmassieStaplesAndcorresponsineandfulfillimgBoltsStirrevptheSohnesofTroyNowExpectationticklingskittishspiritsOaoneandothersideTroianandGreekeSetsaHonhazardAndhitheramJeomeAProloguearmdbutnotinconfideneeOfAuthorspenorAetorsvoyeebutsuitedJulikeeonditionsasourArgumentTotellyoufaireBeholdersthatourPlayLeapesprethevanntandfirstlingsofthosebroylesBeginninginthemiddlestartinghteneeawayTowhatmaybedigestedinaPlayLikcorfindefaultdoasyonrpleasuresareNowgoodorbad\n"
          ]
        }
      ]
    },
    {
      "cell_type": "markdown",
      "source": [],
      "metadata": {
        "id": "tlNd3m-xlf5M"
      }
    },
    {
      "cell_type": "code",
      "source": [
        "\n",
        "\n",
        "decoded_message = ''\n",
        "biliteral_values = ''\n",
        "\n",
        "new_file_path = '/content/drive/MyDrive/T & C Message Decode 1623/decoded message - csv/text.csv'\n",
        "with open(new_file_path, 'w') as new_f:\n",
        "  writer = csv.writer(new_f)\n",
        "\n",
        "  for row in range(0,15,1):\n",
        "    for column in range(14):\n",
        "      biliteral = biliterals.iloc[row, column]\n",
        "      which_letter = decode_biliteral(biliteral)\n",
        "      decoded_message += which_letter\n",
        "      biliteral_values += biliteral \n",
        "\n",
        "  #print('Raw Biliterals: ' + biliteral_values)\n",
        "  print('Raw Decoded Message: ' + decoded_message)\n",
        "  writer.writerow(decoded_message)\n",
        "\n",
        " # biliterals.to_csv('/content/drive/MyDrive/Powell Prologue 1916/decoded message - csv/text.csv', index = None, header=True) \n",
        "\n",
        "print('\\n')\n",
        "\n",
        "print('Encoded Text Size: ' + str(encoded_text_size))\n",
        "print('Biliterals Text Size: ' + str (len(biliteral_values)))\n",
        "print('Decoded Text Size: ' + str(len(decoded_message)))\n",
        "\n"
      ],
      "metadata": {
        "id": "2gzAx5CIvloa",
        "colab": {
          "base_uri": "https://localhost:8080/"
        },
        "outputId": "29f27c31-8aa2-40b2-ff69-acf32988107a"
      },
      "execution_count": 18,
      "outputs": [
        {
          "output_type": "stream",
          "name": "stdout",
          "text": [
            "Raw Decoded Message: francisstalbandescendedfromthemightyheroesoftroylovingandreveringthesenobleancestorshidinhiswritingshomersilliadsandodysseyincipherwiththeaeneidofthenoblevirgilprinceoflatinpoetsinscribingtheletterstoelizabethr\n",
            "\n",
            "\n",
            "Encoded Text Size: 1050\n",
            "Biliterals Text Size: 1050\n",
            "Decoded Text Size: 210\n"
          ]
        }
      ]
    },
    {
      "cell_type": "markdown",
      "source": [
        "# Dividing the raw decoded text string into Words with spaces:<br><br>\n",
        "\n",
        "francis st alban descended from the mighty heroes of troy loving and revering these noble ancestors hid in his writings homers illiads and odyssey in cipher with the aeneid of the noble virgil prince of latin poets inscribing the letters to elizabeth r<br><br>\n",
        "\n",
        "\n",
        "\n",
        "---\n",
        "\n"
      ],
      "metadata": {
        "id": "fXjf_Zdx922L"
      }
    },
    {
      "cell_type": "markdown",
      "source": [
        "# Providing basic styling:<br><br>\n",
        "Francis St. Alban,<br>\n",
        "Descended from the mighty heroes of Troy,<br>\n",
        "Loving and revering these noble ancestors,<br>\n",
        "hid in his writings<br>\n",
        "Homer's Illiads and Odyssey in cipher,<br>\n",
        "with the Aeneid of the noble Virgil,<br>\n",
        "Prince of Latin poets,<br>\n",
        "Inscribing the letters to:<br>\n",
        "Elizabeth, R<br><br>"
      ],
      "metadata": {
        "id": "uABtEidm99yC"
      }
    },
    {
      "cell_type": "markdown",
      "source": [],
      "metadata": {
        "id": "s-Wpfq-EbYIT"
      }
    },
    {
      "cell_type": "markdown",
      "source": [
        "#To proceed with Machine Reconition of the 'a' vs. 'b' biliteral styles, a necessary step is enabling lookup of the style of any indidivual letter of the original text:"
      ],
      "metadata": {
        "id": "7O5wZqjta1Hm"
      }
    },
    {
      "cell_type": "code",
      "source": [
        "original_text_letters_list = list(original_text_letters)\n",
        "\n",
        "print (original_text_letters_list)\n",
        "biliteral_values_list = list(biliteral_values)\n",
        "\n",
        "df = pd.DataFrame()\n",
        "df['Original Letter'] = pd.Series(original_text_letters_list)\n",
        "df['Biliteral Value'] = pd.Series(biliteral_values_list)\n",
        "\n",
        "df\n"
      ],
      "metadata": {
        "id": "RrvoZtbmDNsT",
        "colab": {
          "base_uri": "https://localhost:8080/",
          "height": 530
        },
        "outputId": "fd3432b7-a1a2-4e0c-b62b-e66ef9c929be"
      },
      "execution_count": 19,
      "outputs": [
        {
          "output_type": "stream",
          "name": "stdout",
          "text": [
            "['T', 'h', 'e', 'P', 'r', 'o', 'l', 'u', 'g', 'u', 'e', 'I', 'N', 'T', 'r', 'o', 'y', 'T', 'h', 'e', 'r', 'e', 'l', 'y', 'e', 's', 't', 'h', 'e', 's', 'c', 'e', 'n', 'e', 'F', 'r', 'o', 'm', 'I', 'l', 'e', 's', 'o', 'f', 'G', 'r', 'e', 'e', 'c', 'e', 'T', 'h', 'e', 'P', 'r', 'i', 'n', 'c', 'e', 's', 'O', 'r', 'g', 'i', 'l', 'l', 'o', 'u', 's', 't', 'h', 'e', 'i', 'r', 'h', 'i', 'g', 'h', 'b', 'l', 'o', 'o', 'd', 'c', 'h', 'a', 'f', 'd', 'H', 'a', 'u', 'e', 't', 'o', 't', 'h', 'e', 'p', 'o', 'r', 't', 'o', 'f', 'A', 't', 'h', 'e', 'n', 's', 's', 'e', 'n', 't', 't', 'h', 'e', 'i', 'r', 's', 'h', 'i', 'p', 'p', 'e', 's', 'F', 'r', 'a', 'u', 'g', 'h', 't', 'w', 'i', 't', 'h', 't', 'h', 'e', 'm', 'i', 'n', 'i', 's', 't', 'e', 'r', 's', 'a', 'n', 'd', 'i', 'n', 's', 't', 'r', 'u', 'm', 'e', 'n', 't', 's', 'O', 'f', 'e', 'r', 'u', 'e', 'l', 'l', 'W', 'a', 'r', 'r', 'e', 'S', 'i', 'x', 't', 'y', 'a', 'n', 'd', 'n', 'i', 'n', 'e', 't', 'h', 'a', 't', 'w', 'o', 'r', 'e', 'T', 'h', 'e', 'i', 'r', 'C', 'r', 'o', 'w', 'n', 'e', 't', 's', 'R', 'e', 'g', 'a', 'l', 'i', 'f', 'r', 'o', 'm', 't', 'h', 'A', 't', 'h', 'e', 'n', 'i', 'a', 'n', 'b', 'a', 'y', 'P', 'u', 't', 'f', 'o', 'r', 't', 'h', 't', 'o', 'w', 'a', 'r', 'd', 'P', 'h', 'y', 'r', 'g', 'i', 'n', 'a', 'n', 'd', 't', 'h', 'e', 'i', 'r', 'v', 'o', 'w', 'i', 's', 'm', 'a', 'd', 'e', 'T', 'o', 'r', 'a', 'n', 's', 'a', 'c', 'k', 'e', 'T', 'r', 'o', 'y', 'w', 'i', 't', 'h', 'i', 'n', 'w', 'h', 'o', 's', 'e', 's', 't', 'r', 'o', 'n', 'g', 'e', 'm', 'u', 'r', 'e', 's', 'T', 'h', 'e', 'r', 'a', 'u', 'i', 's', 'h', 'd', 'H', 'e', 'l', 'e', 'n', 'm', 'e', 'n', 'e', 'l', 'a', 'u', 's', 'Q', 'u', 'e', 'e', 'n', 'e', 'W', 'i', 't', 'h', 'w', 'a', 'n', 't', 'o', 'n', 'P', 'a', 'r', 'i', 's', 's', 'l', 'e', 'e', 'p', 'e', 's', 'a', 'n', 'd', 't', 'h', 'a', 't', 's', 't', 'h', 'e', 'Q', 'u', 'a', 'r', 'r', 'e', 'l', 'l', 'T', 'o', 'T', 'e', 'n', 'e', 'd', 'o', 's', 't', 'h', 'e', 'y', 'e', 'o', 'm', 'e', 'A', 'n', 'd', 't', 'h', 'e', 'd', 'e', 'e', 'p', 'e', 'd', 'r', 'a', 'w', 'i', 'n', 'g', 'B', 'a', 'r', 'k', 'e', 'd', 'o', 't', 'h', 'e', 'r', 'e', 'd', 'i', 's', 'g', 'o', 'r', 'g', 'e', 'T', 'h', 'e', 'i', 'r', 'w', 'a', 'r', 'l', 'i', 'k', 'e', 'f', 'r', 'a', 'u', 't', 'a', 'g', 'e', 'n', 'o', 'w', 'o', 'n', 'D', 'a', 'r', 'd', 'a', 'n', 'P', 'l', 'a', 'i', 'n', 'e', 's', 'T', 'h', 'e', 'f', 'r', 'e', 's', 'h', 'a', 'n', 'd', 'y', 'e', 't', 'v', 'a', 'b', 'r', 'u', 'i', 's', 'e', 'd', 'G', 'r', 'e', 'e', 'k', 'e', 's', 'd', 'o', 'p', 'i', 't', 'e', 'h', 'T', 'h', 'e', 'i', 'r', 'b', 'r', 'a', 'u', 'e', 'P', 'a', 'u', 'i', 'l', 'l', 'i', 'o', 'n', 's', 'P', 'r', 'i', 'a', 'm', 's', 's', 'i', 'x', 'g', 'a', 't', 'e', 'd', 'C', 'i', 't', 'y', 'D', 'a', 'r', 'd', 'a', 'n', 'A', 'n', 'd', 'T', 'i', 'm', 'b', 'r', 'i', 'a', 'H', 'e', 'l', 'i', 'a', 's', 'C', 'h', 'e', 't', 'a', 's', 'T', 'r', 'o', 'i', 'e', 'n', 'A', 'n', 'd', 'A', 'n', 't', 'e', 'n', 'o', 'n', 'i', 'd', 'n', 's', 'w', 'i', 't', 'h', 'm', 'a', 's', 's', 'i', 'e', 'S', 't', 'a', 'p', 'l', 'e', 's', 'A', 'n', 'd', 'c', 'o', 'r', 'r', 'e', 's', 'p', 'o', 'n', 's', 'i', 'n', 'e', 'a', 'n', 'd', 'f', 'u', 'l', 'f', 'i', 'l', 'l', 'i', 'm', 'g', 'B', 'o', 'l', 't', 's', 'S', 't', 'i', 'r', 'r', 'e', 'v', 'p', 't', 'h', 'e', 'S', 'o', 'h', 'n', 'e', 's', 'o', 'f', 'T', 'r', 'o', 'y', 'N', 'o', 'w', 'E', 'x', 'p', 'e', 'c', 't', 'a', 't', 'i', 'o', 'n', 't', 'i', 'c', 'k', 'l', 'i', 'n', 'g', 's', 'k', 'i', 't', 't', 'i', 's', 'h', 's', 'p', 'i', 'r', 'i', 't', 's', 'O', 'a', 'o', 'n', 'e', 'a', 'n', 'd', 'o', 't', 'h', 'e', 'r', 's', 'i', 'd', 'e', 'T', 'r', 'o', 'i', 'a', 'n', 'a', 'n', 'd', 'G', 'r', 'e', 'e', 'k', 'e', 'S', 'e', 't', 's', 'a', 'H', 'o', 'n', 'h', 'a', 'z', 'a', 'r', 'd', 'A', 'n', 'd', 'h', 'i', 't', 'h', 'e', 'r', 'a', 'm', 'J', 'e', 'o', 'm', 'e', 'A', 'P', 'r', 'o', 'l', 'o', 'g', 'u', 'e', 'a', 'r', 'm', 'd', 'b', 'u', 't', 'n', 'o', 't', 'i', 'n', 'c', 'o', 'n', 'f', 'i', 'd', 'e', 'n', 'e', 'e', 'O', 'f', 'A', 'u', 't', 'h', 'o', 'r', 's', 'p', 'e', 'n', 'o', 'r', 'A', 'e', 't', 'o', 'r', 's', 'v', 'o', 'y', 'e', 'e', 'b', 'u', 't', 's', 'u', 'i', 't', 'e', 'd', 'J', 'u', 'l', 'i', 'k', 'e', 'e', 'o', 'n', 'd', 'i', 't', 'i', 'o', 'n', 's', 'a', 's', 'o', 'u', 'r', 'A', 'r', 'g', 'u', 'm', 'e', 'n', 't', 'T', 'o', 't', 'e', 'l', 'l', 'y', 'o', 'u', 'f', 'a', 'i', 'r', 'e', 'B', 'e', 'h', 'o', 'l', 'd', 'e', 'r', 's', 't', 'h', 'a', 't', 'o', 'u', 'r', 'P', 'l', 'a', 'y', 'L', 'e', 'a', 'p', 'e', 's', 'p', 'r', 'e', 't', 'h', 'e', 'v', 'a', 'n', 'n', 't', 'a', 'n', 'd', 'f', 'i', 'r', 's', 't', 'l', 'i', 'n', 'g', 's', 'o', 'f', 't', 'h', 'o', 's', 'e', 'b', 'r', 'o', 'y', 'l', 'e', 's', 'B', 'e', 'g', 'i', 'n', 'n', 'i', 'n', 'g', 'i', 'n', 't', 'h', 'e', 'm', 'i', 'd', 'd', 'l', 'e', 's', 't', 'a', 'r', 't', 'i', 'n', 'g', 'h', 't', 'e', 'n', 'e', 'e', 'a', 'w', 'a', 'y', 'T', 'o', 'w', 'h', 'a', 't', 'm', 'a', 'y', 'b', 'e', 'd', 'i', 'g', 'e', 's', 't', 'e', 'd', 'i', 'n', 'a', 'P', 'l', 'a', 'y', 'L', 'i', 'k', 'c', 'o', 'r', 'f', 'i', 'n', 'd', 'e', 'f', 'a', 'u', 'l', 't', 'd', 'o', 'a', 's', 'y', 'o', 'n', 'r', 'p', 'l', 'e', 'a', 's', 'u', 'r', 'e', 's', 'a', 'r', 'e', 'N', 'o', 'w', 'g', 'o', 'o', 'd', 'o', 'r', 'b', 'a', 'd']\n"
          ]
        },
        {
          "output_type": "execute_result",
          "data": {
            "text/plain": [
              "     Original Letter Biliteral Value\n",
              "0                  T               a\n",
              "1                  h               a\n",
              "2                  e               b\n",
              "3                  P               a\n",
              "4                  r               b\n",
              "...              ...             ...\n",
              "1044               o               b\n",
              "1045               r               b\n",
              "1046               b               a\n",
              "1047               a               a\n",
              "1048               d               a\n",
              "\n",
              "[1049 rows x 2 columns]"
            ],
            "text/html": [
              "\n",
              "  <div id=\"df-dc7e10ef-4a0a-44ca-b827-fe07bc6d4172\">\n",
              "    <div class=\"colab-df-container\">\n",
              "      <div>\n",
              "<style scoped>\n",
              "    .dataframe tbody tr th:only-of-type {\n",
              "        vertical-align: middle;\n",
              "    }\n",
              "\n",
              "    .dataframe tbody tr th {\n",
              "        vertical-align: top;\n",
              "    }\n",
              "\n",
              "    .dataframe thead th {\n",
              "        text-align: right;\n",
              "    }\n",
              "</style>\n",
              "<table border=\"1\" class=\"dataframe\">\n",
              "  <thead>\n",
              "    <tr style=\"text-align: right;\">\n",
              "      <th></th>\n",
              "      <th>Original Letter</th>\n",
              "      <th>Biliteral Value</th>\n",
              "    </tr>\n",
              "  </thead>\n",
              "  <tbody>\n",
              "    <tr>\n",
              "      <th>0</th>\n",
              "      <td>T</td>\n",
              "      <td>a</td>\n",
              "    </tr>\n",
              "    <tr>\n",
              "      <th>1</th>\n",
              "      <td>h</td>\n",
              "      <td>a</td>\n",
              "    </tr>\n",
              "    <tr>\n",
              "      <th>2</th>\n",
              "      <td>e</td>\n",
              "      <td>b</td>\n",
              "    </tr>\n",
              "    <tr>\n",
              "      <th>3</th>\n",
              "      <td>P</td>\n",
              "      <td>a</td>\n",
              "    </tr>\n",
              "    <tr>\n",
              "      <th>4</th>\n",
              "      <td>r</td>\n",
              "      <td>b</td>\n",
              "    </tr>\n",
              "    <tr>\n",
              "      <th>...</th>\n",
              "      <td>...</td>\n",
              "      <td>...</td>\n",
              "    </tr>\n",
              "    <tr>\n",
              "      <th>1044</th>\n",
              "      <td>o</td>\n",
              "      <td>b</td>\n",
              "    </tr>\n",
              "    <tr>\n",
              "      <th>1045</th>\n",
              "      <td>r</td>\n",
              "      <td>b</td>\n",
              "    </tr>\n",
              "    <tr>\n",
              "      <th>1046</th>\n",
              "      <td>b</td>\n",
              "      <td>a</td>\n",
              "    </tr>\n",
              "    <tr>\n",
              "      <th>1047</th>\n",
              "      <td>a</td>\n",
              "      <td>a</td>\n",
              "    </tr>\n",
              "    <tr>\n",
              "      <th>1048</th>\n",
              "      <td>d</td>\n",
              "      <td>a</td>\n",
              "    </tr>\n",
              "  </tbody>\n",
              "</table>\n",
              "<p>1049 rows × 2 columns</p>\n",
              "</div>\n",
              "      <button class=\"colab-df-convert\" onclick=\"convertToInteractive('df-dc7e10ef-4a0a-44ca-b827-fe07bc6d4172')\"\n",
              "              title=\"Convert this dataframe to an interactive table.\"\n",
              "              style=\"display:none;\">\n",
              "        \n",
              "  <svg xmlns=\"http://www.w3.org/2000/svg\" height=\"24px\"viewBox=\"0 0 24 24\"\n",
              "       width=\"24px\">\n",
              "    <path d=\"M0 0h24v24H0V0z\" fill=\"none\"/>\n",
              "    <path d=\"M18.56 5.44l.94 2.06.94-2.06 2.06-.94-2.06-.94-.94-2.06-.94 2.06-2.06.94zm-11 1L8.5 8.5l.94-2.06 2.06-.94-2.06-.94L8.5 2.5l-.94 2.06-2.06.94zm10 10l.94 2.06.94-2.06 2.06-.94-2.06-.94-.94-2.06-.94 2.06-2.06.94z\"/><path d=\"M17.41 7.96l-1.37-1.37c-.4-.4-.92-.59-1.43-.59-.52 0-1.04.2-1.43.59L10.3 9.45l-7.72 7.72c-.78.78-.78 2.05 0 2.83L4 21.41c.39.39.9.59 1.41.59.51 0 1.02-.2 1.41-.59l7.78-7.78 2.81-2.81c.8-.78.8-2.07 0-2.86zM5.41 20L4 18.59l7.72-7.72 1.47 1.35L5.41 20z\"/>\n",
              "  </svg>\n",
              "      </button>\n",
              "      \n",
              "  <style>\n",
              "    .colab-df-container {\n",
              "      display:flex;\n",
              "      flex-wrap:wrap;\n",
              "      gap: 12px;\n",
              "    }\n",
              "\n",
              "    .colab-df-convert {\n",
              "      background-color: #E8F0FE;\n",
              "      border: none;\n",
              "      border-radius: 50%;\n",
              "      cursor: pointer;\n",
              "      display: none;\n",
              "      fill: #1967D2;\n",
              "      height: 32px;\n",
              "      padding: 0 0 0 0;\n",
              "      width: 32px;\n",
              "    }\n",
              "\n",
              "    .colab-df-convert:hover {\n",
              "      background-color: #E2EBFA;\n",
              "      box-shadow: 0px 1px 2px rgba(60, 64, 67, 0.3), 0px 1px 3px 1px rgba(60, 64, 67, 0.15);\n",
              "      fill: #174EA6;\n",
              "    }\n",
              "\n",
              "    [theme=dark] .colab-df-convert {\n",
              "      background-color: #3B4455;\n",
              "      fill: #D2E3FC;\n",
              "    }\n",
              "\n",
              "    [theme=dark] .colab-df-convert:hover {\n",
              "      background-color: #434B5C;\n",
              "      box-shadow: 0px 1px 3px 1px rgba(0, 0, 0, 0.15);\n",
              "      filter: drop-shadow(0px 1px 2px rgba(0, 0, 0, 0.3));\n",
              "      fill: #FFFFFF;\n",
              "    }\n",
              "  </style>\n",
              "\n",
              "      <script>\n",
              "        const buttonEl =\n",
              "          document.querySelector('#df-dc7e10ef-4a0a-44ca-b827-fe07bc6d4172 button.colab-df-convert');\n",
              "        buttonEl.style.display =\n",
              "          google.colab.kernel.accessAllowed ? 'block' : 'none';\n",
              "\n",
              "        async function convertToInteractive(key) {\n",
              "          const element = document.querySelector('#df-dc7e10ef-4a0a-44ca-b827-fe07bc6d4172');\n",
              "          const dataTable =\n",
              "            await google.colab.kernel.invokeFunction('convertToInteractive',\n",
              "                                                     [key], {});\n",
              "          if (!dataTable) return;\n",
              "\n",
              "          const docLinkHtml = 'Like what you see? Visit the ' +\n",
              "            '<a target=\"_blank\" href=https://colab.research.google.com/notebooks/data_table.ipynb>data table notebook</a>'\n",
              "            + ' to learn more about interactive tables.';\n",
              "          element.innerHTML = '';\n",
              "          dataTable['output_type'] = 'display_data';\n",
              "          await google.colab.output.renderOutput(dataTable, element);\n",
              "          const docLink = document.createElement('div');\n",
              "          docLink.innerHTML = docLinkHtml;\n",
              "          element.appendChild(docLink);\n",
              "        }\n",
              "      </script>\n",
              "    </div>\n",
              "  </div>\n",
              "  "
            ]
          },
          "metadata": {},
          "execution_count": 19
        }
      ]
    },
    {
      "cell_type": "code",
      "source": [
        "sample1 = df.iloc[0]\n",
        "sample2 = df.iloc[2]\n",
        "\n",
        "print(sample1.to_string())\n",
        "print(\"\\n\")\n",
        "print(sample2.to_string())\n"
      ],
      "metadata": {
        "id": "6IbleydWMMKZ",
        "colab": {
          "base_uri": "https://localhost:8080/"
        },
        "outputId": "25ee8682-1737-4c5f-a529-98227e94f239"
      },
      "execution_count": 20,
      "outputs": [
        {
          "output_type": "stream",
          "name": "stdout",
          "text": [
            "Original Letter    T\n",
            "Biliteral Value    a\n",
            "\n",
            "\n",
            "Original Letter    e\n",
            "Biliteral Value    b\n"
          ]
        }
      ]
    },
    {
      "cell_type": "markdown",
      "source": [
        "\n",
        "Two Samples:\n",
        "\n",
        "The first word of the original text is \"The\".\n",
        "\n",
        ">Thus the first letter of the original text, 'T', was encoded using the 'a' biliteral value, or binary Zero.\n",
        "\n",
        ">The third letter of the original text, 'e', was encoded using the 'b' biliteral value, or binary One."
      ],
      "metadata": {
        "id": "uHbUba3pOBMN"
      }
    }
  ]
}